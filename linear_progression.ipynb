{
 "cells": [
  {
   "cell_type": "code",
   "execution_count": 37,
   "id": "11defdf5-9de2-47c1-90d2-dd2e546728e6",
   "metadata": {},
   "outputs": [
    {
     "data": {
      "text/plain": [
       "['region_label_encoder.joblib']"
      ]
     },
     "execution_count": 37,
     "metadata": {},
     "output_type": "execute_result"
    }
   ],
   "source": [
    "import pickle  \n",
    "import joblib \n",
    "from sklearn.preprocessing import LabelEncoder  \n",
    "from sklearn.linear_model import LinearRegression\n",
    "import pandas as pd\n",
    "\n",
    "# Read the csv file\n",
    "df = pd.read_csv('insurance.csv')\n",
    "\n",
    "\n",
    "# Create and fit LabelEncoder  \n",
    "le_region = LabelEncoder()  \n",
    "\n",
    "le_region.fit(df['region'])\n",
    "\n",
    "joblib.dump(le_region,'region_label_encoder.joblib')\n",
    "\n",
    " \n"
   ]
  },
  {
   "cell_type": "code",
   "execution_count": 39,
   "id": "f7ba080c-f62a-4211-8ee3-3b35b52d0f75",
   "metadata": {},
   "outputs": [
    {
     "data": {
      "text/plain": [
       "array([3])"
      ]
     },
     "execution_count": 39,
     "metadata": {},
     "output_type": "execute_result"
    }
   ],
   "source": [
    "import  joblib \n",
    "\n",
    "le_region = joblib.load(\"region_label_encoder.joblib\")\n",
    "le_region.transform(['southwest'])\n"
   ]
  },
  {
   "cell_type": "code",
   "execution_count": 83,
   "id": "1ff61dd6-1d5b-470f-b2cc-b0611c3fba87",
   "metadata": {},
   "outputs": [
    {
     "name": "stdin",
     "output_type": "stream",
     "text": [
      "Insert your age :  14\n",
      "Insert your sex female\n",
      "Insert your bmi 2323\n",
      "Insert your children number  3\n",
      "Do you vape ? yes\n",
      "Insert your region southeast\n"
     ]
    },
    {
     "name": "stdout",
     "output_type": "stream",
     "text": [
      "[[14, 0, 2323.0, 3, 1, 2]]\n",
      "Votre charge est de : 788898.2601958268\n"
     ]
    },
    {
     "name": "stderr",
     "output_type": "stream",
     "text": [
      "/Users/homosapiens/Desktop/anaconda3/lib/python3.12/site-packages/sklearn/base.py:493: UserWarning: X does not have valid feature names, but LinearRegression was fitted with feature names\n",
      "  warnings.warn(\n"
     ]
    }
   ],
   "source": [
    "import  joblib \n",
    "\n",
    "def train():\n",
    "\n",
    "    # Load data\n",
    "    df = pd.read_csv('insurance.csv')\n",
    "\n",
    "    # Label Encoding\n",
    "    le = LabelEncoder()  \n",
    "\n",
    "    \n",
    "    # Fit and  Dump the region  encoder\n",
    "    le.fit(df['smoker'])\n",
    "    joblib.dump(le,'smoker_label_encoder.joblib')\n",
    "\n",
    "    # Tranform region encoder\n",
    "    df['smoker'] = le.transform(df['smoker']) \n",
    "    \n",
    "\n",
    "    # Fit and  Dump the sex  encoder\n",
    "    le.fit(df['sex'])\n",
    "    joblib.dump(le,'sex_label_encoder.joblib')\n",
    "\n",
    "    # Tranform region encoder\n",
    "    df['sex'] = le.transform(df['sex']) \n",
    "\n",
    "    # Fit and  Dump the region  encoder\n",
    "    le.fit(df['region'])\n",
    "    joblib.dump(le,'region_label_encoder.joblib')\n",
    "\n",
    "    # Tranform region encoder\n",
    "    df['region'] = le.transform(df['region'])\n",
    "\n",
    "\n",
    "    \n",
    "    ### Train and  export the model\n",
    "    \n",
    "    # Instanciate LinearRegression\n",
    "    prediction = LinearRegression()\n",
    "\n",
    "    # target\n",
    "    y = df['charges']\n",
    "\n",
    "    # parameters\n",
    "    X = df.drop(columns = ['charges'])\n",
    "\n",
    "    #Fit the model\n",
    "    reg = prediction.fit(X,y)\n",
    "\n",
    "    # Export the model\n",
    "    joblib.dump(reg,'linear_regression_model_1.joblib')\n",
    "\n",
    "\n",
    "    \n",
    "    return reg\n",
    "\n",
    "\n",
    "\n",
    "\n",
    "def predict():\n",
    "    #Request data from user\n",
    "    \n",
    "    age = int(input(\"Insert your age : \"))\n",
    "    sex = input(\"Insert your sex\")\n",
    "    bmi = float(input(\"Insert your bmi\"))\n",
    "    children = int(input(\"Insert your children number \"))\n",
    "    smoker = input(\"Do you vape ?\")\n",
    "    region = input(\"Insert your region\")\n",
    "\n",
    "\n",
    "    le_region = joblib.load(\"region_label_encoder.joblib\")\n",
    "    encodedRegion = le_region.transform([region])\n",
    "    \n",
    "    le_sex = joblib.load(\"sex_label_encoder.joblib\")\n",
    "    encodedSex = le_sex.transform([sex])\n",
    "    \n",
    "    le_smoker = joblib.load(\"smoker_label_encoder.joblib\")\n",
    "    encodedSmoker= le_smoker.transform([smoker])\n",
    "\n",
    "    ary=[[ age, encodedSex[0], bmi , children,encodedSmoker[0],encodedRegion[0]]]\n",
    "    print(ary)\n",
    "\n",
    "    # Instanciate LinearRegression\n",
    "    reg = train()\n",
    "    \n",
    "    result = reg.predict(ary)\n",
    "    return print(\"Votre charge est de : \" + str(result[0]) ) \n",
    "\n",
    "\n",
    "predict()\n",
    "    "
   ]
  },
  {
   "cell_type": "code",
   "execution_count": null,
   "id": "7108afcd-af05-4935-b580-b2e067288359",
   "metadata": {},
   "outputs": [],
   "source": []
  }
 ],
 "metadata": {
  "kernelspec": {
   "display_name": "Python 3 (ipykernel)",
   "language": "python",
   "name": "python3"
  },
  "language_info": {
   "codemirror_mode": {
    "name": "ipython",
    "version": 3
   },
   "file_extension": ".py",
   "mimetype": "text/x-python",
   "name": "python",
   "nbconvert_exporter": "python",
   "pygments_lexer": "ipython3",
   "version": "3.12.7"
  }
 },
 "nbformat": 4,
 "nbformat_minor": 5
}
